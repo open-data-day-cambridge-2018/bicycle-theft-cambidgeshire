{
 "cells": [
  {
   "cell_type": "markdown",
   "metadata": {},
   "source": [
    "# Data analysis (improved)\n",
    "\n",
    "Based on 'Data-analysis-and-mapping.ipynb' with improvements suggested by Achintya @RaoOfPhysics"
   ]
  },
  {
   "cell_type": "code",
   "execution_count": 225,
   "metadata": {},
   "outputs": [
    {
     "data": {
      "text/plain": [
       "['Crime ID',\n",
       " 'Month',\n",
       " 'Longitude',\n",
       " 'Latitude',\n",
       " 'Location',\n",
       " 'Last outcome category']"
      ]
     },
     "execution_count": 225,
     "metadata": {},
     "output_type": "execute_result"
    }
   ],
   "source": [
    "import csv\n",
    "import pandas as pd\n",
    "from pandas import DataFrame, datetime\n",
    "import numpy as np\n",
    "\n",
    "# load the data from GitHub raw URL:\n",
    "data = pd.read_csv('https://raw.githubusercontent.com/open-data-day-cambridge-2018/bicycle-theft-cambridgeshire/master/data/processed/bikethefts.csv')\n",
    "\n",
    "list(data) # show head of dataframe"
   ]
  },
  {
   "cell_type": "markdown",
   "metadata": {},
   "source": [
    "Now to find the total number of bike theft reports (i.e. number of rows in the dataset).\n",
    "\n",
    "Note that python begins with first row as row 0, so we don't need to subtract 1 to discount the header row."
   ]
  },
  {
   "cell_type": "code",
   "execution_count": 226,
   "metadata": {},
   "outputs": [
    {
     "name": "stdout",
     "output_type": "stream",
     "text": [
      "4394\n"
     ]
    }
   ],
   "source": [
    "total = len(data.index)\n",
    "print(total)"
   ]
  },
  {
   "cell_type": "markdown",
   "metadata": {},
   "source": [
    "So there were 4,394 bike thefts reported in Cambridgeshire in 2017."
   ]
  },
  {
   "cell_type": "code",
   "execution_count": 227,
   "metadata": {},
   "outputs": [
    {
     "data": {
      "text/plain": [
       "['Frequency', 'Month']"
      ]
     },
     "execution_count": 227,
     "metadata": {},
     "output_type": "execute_result"
    }
   ],
   "source": [
    "# make a series that sums the frequency per month\n",
    "monthCounts = data.Month.value_counts()\n",
    "# turn series into dataframe and name the column headers\n",
    "monthData = pd.DataFrame({'Month':monthCounts.index,'Frequency':monthCounts.values})\n",
    "# check dataframe - header only\n",
    "list(monthData)"
   ]
  },
  {
   "cell_type": "markdown",
   "metadata": {},
   "source": [
    "Let's see the full dataframe"
   ]
  },
  {
   "cell_type": "code",
   "execution_count": 228,
   "metadata": {},
   "outputs": [
    {
     "name": "stdout",
     "output_type": "stream",
     "text": [
      "    Frequency    Month\n",
      "0         495  2017-06\n",
      "1         468  2017-10\n",
      "2         442  2017-05\n",
      "3         432  2017-08\n",
      "4         428  2017-07\n",
      "5         385  2017-11\n",
      "6         335  2017-09\n",
      "7         331  2017-03\n",
      "8         318  2017-04\n",
      "9         264  2017-02\n",
      "10        257  2017-12\n",
      "11        239  2017-01\n"
     ]
    }
   ],
   "source": [
    "print(monthData)"
   ]
  },
  {
   "cell_type": "markdown",
   "metadata": {},
   "source": [
    "Now to try out two ways to map the month data we have onto month names, and reorder by date ascending."
   ]
  },
  {
   "cell_type": "code",
   "execution_count": 229,
   "metadata": {},
   "outputs": [
    {
     "data": {
      "text/html": [
       "<div>\n",
       "<style scoped>\n",
       "    .dataframe tbody tr th:only-of-type {\n",
       "        vertical-align: middle;\n",
       "    }\n",
       "\n",
       "    .dataframe tbody tr th {\n",
       "        vertical-align: top;\n",
       "    }\n",
       "\n",
       "    .dataframe thead th {\n",
       "        text-align: right;\n",
       "    }\n",
       "</style>\n",
       "<table border=\"1\" class=\"dataframe\">\n",
       "  <thead>\n",
       "    <tr style=\"text-align: right;\">\n",
       "      <th></th>\n",
       "      <th>Frequency</th>\n",
       "      <th>Month</th>\n",
       "    </tr>\n",
       "  </thead>\n",
       "  <tbody>\n",
       "    <tr>\n",
       "      <th>11</th>\n",
       "      <td>239</td>\n",
       "      <td>2017-01-01</td>\n",
       "    </tr>\n",
       "    <tr>\n",
       "      <th>9</th>\n",
       "      <td>264</td>\n",
       "      <td>2017-02-01</td>\n",
       "    </tr>\n",
       "    <tr>\n",
       "      <th>7</th>\n",
       "      <td>331</td>\n",
       "      <td>2017-03-01</td>\n",
       "    </tr>\n",
       "    <tr>\n",
       "      <th>8</th>\n",
       "      <td>318</td>\n",
       "      <td>2017-04-01</td>\n",
       "    </tr>\n",
       "    <tr>\n",
       "      <th>2</th>\n",
       "      <td>442</td>\n",
       "      <td>2017-05-01</td>\n",
       "    </tr>\n",
       "    <tr>\n",
       "      <th>0</th>\n",
       "      <td>495</td>\n",
       "      <td>2017-06-01</td>\n",
       "    </tr>\n",
       "    <tr>\n",
       "      <th>4</th>\n",
       "      <td>428</td>\n",
       "      <td>2017-07-01</td>\n",
       "    </tr>\n",
       "    <tr>\n",
       "      <th>3</th>\n",
       "      <td>432</td>\n",
       "      <td>2017-08-01</td>\n",
       "    </tr>\n",
       "    <tr>\n",
       "      <th>6</th>\n",
       "      <td>335</td>\n",
       "      <td>2017-09-01</td>\n",
       "    </tr>\n",
       "    <tr>\n",
       "      <th>1</th>\n",
       "      <td>468</td>\n",
       "      <td>2017-10-01</td>\n",
       "    </tr>\n",
       "    <tr>\n",
       "      <th>5</th>\n",
       "      <td>385</td>\n",
       "      <td>2017-11-01</td>\n",
       "    </tr>\n",
       "    <tr>\n",
       "      <th>10</th>\n",
       "      <td>257</td>\n",
       "      <td>2017-12-01</td>\n",
       "    </tr>\n",
       "  </tbody>\n",
       "</table>\n",
       "</div>"
      ],
      "text/plain": [
       "    Frequency      Month\n",
       "11        239 2017-01-01\n",
       "9         264 2017-02-01\n",
       "7         331 2017-03-01\n",
       "8         318 2017-04-01\n",
       "2         442 2017-05-01\n",
       "0         495 2017-06-01\n",
       "4         428 2017-07-01\n",
       "3         432 2017-08-01\n",
       "6         335 2017-09-01\n",
       "1         468 2017-10-01\n",
       "5         385 2017-11-01\n",
       "10        257 2017-12-01"
      ]
     },
     "execution_count": 229,
     "metadata": {},
     "output_type": "execute_result"
    }
   ],
   "source": [
    "# monthData1 will be for to_datetime conversion approach\n",
    "monthData1 = pd.DataFrame({'Month':monthCounts.index,'Frequency':monthCounts.values})\n",
    "\n",
    "# Using monthData1, convert Month values to datetime\n",
    "monthData1['Month'] = pd.to_datetime(monthData1['Month'])\n",
    "\n",
    "# reorder data by Month column\n",
    "monthData1.sort_values(by=['Month'], ascending=True)"
   ]
  },
  {
   "cell_type": "code",
   "execution_count": 232,
   "metadata": {},
   "outputs": [
    {
     "data": {
      "image/png": "[encoded data removed]",
      "text/plain": [
       "<matplotlib.figure.Figure at 0x1c991d24588>"
      ]
     },
     "metadata": {},
     "output_type": "display_data"
    }
   ],
   "source": [
    "import matplotlib.pyplot as plt\n",
    "from matplotlib import dates as mPlotDATEs\n",
    "from matplotlib.dates   import  DateFormatter\n",
    "\n",
    "x_data = monthData1.Month\n",
    "y_data = monthData1.Frequency\n",
    "# months = ['Jan', 'Feb', 'Mar', 'Apr', 'May', 'Jun', 'Jul', 'Aug', 'Sep', 'Oct', 'Nov', 'Dec']\n",
    "\n",
    "def barplot(x_data, y_data, x_label=\"Month\", y_label=\"Number of bicycle thefts\", title=\"Bicycles thefts in Cambridgeshire in 2017\"):\n",
    "    fig, ax = plt.subplots()\n",
    "    # Draw bars, position them in the center of the tick mark on the x-axis\n",
    "    ax.bar(x_data, y_data, color = '#7fc0e4', align = 'center')\n",
    "    # Draw error bars to show standard deviation, set ls to 'none'\n",
    "    # to remove line between points\n",
    "    # ax.errorbar(x_data, y_data, yerr = error_data, color = '#297083', ls = 'none', lw = 2, capthick = 2)\n",
    "    ax.set_ylabel(y_label)\n",
    "    ax.set_xlabel(x_label)\n",
    "    ax.xaxis.set_major_formatter(DateFormatter('%m')) # sets x-axes as month number only\n",
    "    # ax.xaxis.set_ticks(np.arange('01', '12', 1)) # set the x-ticks to be one space apart (start,end,stepsize)\n",
    "    # ax.set_xticklabels(months) # map the month numbers onto month strings as defined above\n",
    "    ax.set_title(title)\n",
    "\n",
    "barplot(x_data,y_data)"
   ]
  },
  {
   "cell_type": "markdown",
   "metadata": {},
   "source": [
    "**To finish** Struggling to manipulate the x-axis tick labels to help graph display properly - can't get tickmarks to stepsize by 1 as not reading string into the np.arange()."
   ]
  },
  {
   "cell_type": "code",
   "execution_count": 233,
   "metadata": {},
   "outputs": [
    {
     "name": "stdout",
     "output_type": "stream",
     "text": [
      "    Frequency  Month\n",
      "11        239      1\n",
      "9         264      2\n",
      "7         331      3\n",
      "8         318      4\n",
      "2         442      5\n",
      "0         495      6\n",
      "4         428      7\n",
      "3         432      8\n",
      "6         335      9\n",
      "1         468     10\n",
      "5         385     11\n",
      "10        257     12\n"
     ]
    }
   ],
   "source": [
    "# Using monthData2, alternative to pd.to_datetime: convert Month column to months using a dictionary\n",
    "monthData2 = pd.DataFrame({'Month':monthCounts.index,'Frequency':monthCounts.values})\n",
    "\n",
    "# First remove the 'YYYY-' string\n",
    "monthData2['Month'] = monthData2['Month'].str.replace(r'2017-*', '')\n",
    "\n",
    "# map the 'MM' string to integers\n",
    "mmMap = {'01': 1, '02': 2, '03': 3, '04': 4, '05': 5,'06': 6, \n",
    "         '07': 7, '08': 8, '09': 9, '10': 10, '11': 11, '12': 12}\n",
    "monthData2['Month'] = monthData2['Month'].apply(lambda x: mmMap[x])\n",
    "\n",
    "# sort by Month column (ascending integers)\n",
    "monthData2 = monthData2.sort_values(by=['Month'], ascending=True)\n",
    "\n",
    "# map the Month integers to month names using a dictionary\n",
    "# monthMap = {1: 'Jan', 2: 'Feb', 3: 'Mar', 4: 'Apr', 5: 'May', 6: 'Jun', \n",
    "#            7: 'Jul', 8: 'Aug', 9: 'Sep', 10: 'Oct', 11: 'Nov', 12: 'Dec'}\n",
    "# monthData['Month'] = monthData['Month'].apply(lambda x: monthMap[x])\n",
    "print(monthData2)"
   ]
  },
  {
   "cell_type": "markdown",
   "metadata": {},
   "source": [
    "Plot the data"
   ]
  },
  {
   "cell_type": "code",
   "execution_count": 234,
   "metadata": {},
   "outputs": [
    {
     "data": {
      "image/png": "[encoded data removed]",
      "text/plain": [
       "<matplotlib.figure.Figure at 0x1c991195978>"
      ]
     },
     "metadata": {},
     "output_type": "display_data"
    }
   ],
   "source": [
    "import matplotlib.pyplot as plt\n",
    "\n",
    "x_data = monthData2.Month\n",
    "y_data = monthData2.Frequency\n",
    "months = ['Jan', 'Feb', 'Mar', 'Apr', 'May', 'Jun', 'Jul', 'Aug', 'Sep', 'Oct', 'Nov', 'Dec']\n",
    "\n",
    "def barplot(x_data, y_data, x_label=\"Month\", y_label=\"Number of bicycle thefts\", title=\"Bicycles thefts in Cambridgeshire in 2017\"):\n",
    "    fig, ax = plt.subplots()\n",
    "    # Draw bars, position them in the center of the tick mark on the x-axis\n",
    "    ax.bar(x_data, y_data, color = '#7fc0e4', align = 'center')\n",
    "    # Draw error bars to show standard deviation, set ls to 'none'\n",
    "    # to remove line between points\n",
    "    # ax.errorbar(x_data, y_data, yerr = error_data, color = '#297083', ls = 'none', lw = 2, capthick = 2)\n",
    "    ax.set_ylabel(y_label)\n",
    "    ax.set_xlabel(x_label)\n",
    "    ax.xaxis.set_ticks(np.arange(1, 13, 1)) # set the x-ticks to be one space apart (start,end,stepsize)\n",
    "    ax.set_xticklabels(months) # map the month numbers onto month strings as defined above\n",
    "    ax.set_title(title)\n",
    "\n",
    "barplot(x_data,y_data)"
   ]
  },
  {
   "cell_type": "code",
   "execution_count": null,
   "metadata": {},
   "outputs": [],
   "source": []
  }
 ],
 "metadata": {
  "kernelspec": {
   "display_name": "Python 3",
   "language": "python",
   "name": "python3"
  },
  "language_info": {
   "codemirror_mode": {
    "name": "ipython",
    "version": 3
   },
   "file_extension": ".py",
   "mimetype": "text/x-python",
   "name": "python",
   "nbconvert_exporter": "python",
   "pygments_lexer": "ipython3",
   "version": "3.6.4"
  }
 },
 "nbformat": 4,
 "nbformat_minor": 2
}
